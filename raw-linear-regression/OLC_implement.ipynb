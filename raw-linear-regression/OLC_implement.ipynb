{
 "cells": [
  {
   "cell_type": "code",
   "execution_count": 70,
   "id": "40901133-bb69-4f8f-b2e9-1e8c7b2b64a1",
   "metadata": {},
   "outputs": [],
   "source": [
    "import pandas as pd\n",
    "import matplotlib.pyplot as plt\n",
    "import numpy as np\n",
    "plt.style.use(\"./pitayasmoothie.mplstyle\")"
   ]
  },
  {
   "cell_type": "markdown",
   "id": "de3d188d-ca78-4e19-bea2-fc91cdfbfa7a",
   "metadata": {},
   "source": [
    "# OLS (ordinary least squares)\n"
   ]
  },
  {
   "cell_type": "code",
   "execution_count": 83,
   "id": "fa4f695c-52a0-4167-a9bc-7f0067c75b08",
   "metadata": {},
   "outputs": [],
   "source": [
    "class MLA:\n",
    "    def __init__(self):\n",
    "        self.m = None\n",
    "        self.b = None\n",
    "    def fit(self, X_train, Y_train):\n",
    "        num = 0\n",
    "        den = 0\n",
    "        for i in range(X_train.shape[0]):\n",
    "            num = num + (X_train[i] - X_train.mean()) * (Y_train[i] - Y_train.mean())\n",
    "            den = den + (X_train[i] - X_train.mean()) * (X_train[i] - X_train.mean())\n",
    "            self.m = num/den\n",
    "            self.b = (Y_train.mean()) - (self.m*X_train.mean())\n",
    "    def predict(self, X_test):\n",
    "       return self.m * X_test + self.b "
   ]
  },
  {
   "cell_type": "code",
   "execution_count": 84,
   "id": "82ce103e-0ceb-4fb0-b4d9-38286fef4182",
   "metadata": {},
   "outputs": [
    {
     "data": {
      "text/html": [
       "<div>\n",
       "<style scoped>\n",
       "    .dataframe tbody tr th:only-of-type {\n",
       "        vertical-align: middle;\n",
       "    }\n",
       "\n",
       "    .dataframe tbody tr th {\n",
       "        vertical-align: top;\n",
       "    }\n",
       "\n",
       "    .dataframe thead th {\n",
       "        text-align: right;\n",
       "    }\n",
       "</style>\n",
       "<table border=\"1\" class=\"dataframe\">\n",
       "  <thead>\n",
       "    <tr style=\"text-align: right;\">\n",
       "      <th></th>\n",
       "      <th>cgpa</th>\n",
       "      <th>package</th>\n",
       "    </tr>\n",
       "  </thead>\n",
       "  <tbody>\n",
       "    <tr>\n",
       "      <th>195</th>\n",
       "      <td>6.93</td>\n",
       "      <td>2.46</td>\n",
       "    </tr>\n",
       "    <tr>\n",
       "      <th>196</th>\n",
       "      <td>5.89</td>\n",
       "      <td>2.57</td>\n",
       "    </tr>\n",
       "    <tr>\n",
       "      <th>197</th>\n",
       "      <td>7.21</td>\n",
       "      <td>3.24</td>\n",
       "    </tr>\n",
       "    <tr>\n",
       "      <th>198</th>\n",
       "      <td>7.63</td>\n",
       "      <td>3.96</td>\n",
       "    </tr>\n",
       "    <tr>\n",
       "      <th>199</th>\n",
       "      <td>6.22</td>\n",
       "      <td>2.33</td>\n",
       "    </tr>\n",
       "  </tbody>\n",
       "</table>\n",
       "</div>"
      ],
      "text/plain": [
       "     cgpa  package\n",
       "195  6.93     2.46\n",
       "196  5.89     2.57\n",
       "197  7.21     3.24\n",
       "198  7.63     3.96\n",
       "199  6.22     2.33"
      ]
     },
     "execution_count": 84,
     "metadata": {},
     "output_type": "execute_result"
    }
   ],
   "source": [
    "df = pd.read_csv('placement.csv')\n",
    "df.tail()"
   ]
  },
  {
   "cell_type": "code",
   "execution_count": 85,
   "id": "d5a2234d-985c-4ee9-b25b-81702ed19946",
   "metadata": {},
   "outputs": [],
   "source": [
    "x = df.iloc[:,0].values\n",
    "y= df.iloc[:,1].values\n"
   ]
  },
  {
   "cell_type": "code",
   "execution_count": 86,
   "id": "25d17081-e2a0-4e58-ba56-a14dbafacc32",
   "metadata": {},
   "outputs": [],
   "source": [
    "from sklearn.model_selection import train_test_split\n",
    "X_train, X_test, Y_train , Y_test = train_test_split(x, y,test_size=0.2,random_state=2)"
   ]
  },
  {
   "cell_type": "code",
   "execution_count": 87,
   "id": "980373b4-3127-4162-a653-a45510dc492a",
   "metadata": {},
   "outputs": [],
   "source": [
    "lm = MLA()\n",
    "lm.fit(X_train, Y_train)\n",
    "predication = lm.predict(X_test[0])"
   ]
  },
  {
   "cell_type": "code",
   "execution_count": null,
   "id": "0493180e-a573-4ed9-bb41-d3decc8c96cc",
   "metadata": {},
   "outputs": [],
   "source": []
  },
  {
   "cell_type": "code",
   "execution_count": 90,
   "id": "8d414b48-8219-42f4-8d66-03ec54b8c17c",
   "metadata": {
    "scrolled": true
   },
   "outputs": [
    {
     "data": {
      "text/plain": [
       "[<matplotlib.lines.Line2D at 0x7f951edaf990>]"
      ]
     },
     "execution_count": 90,
     "metadata": {},
     "output_type": "execute_result"
    },
    {
     "data": {
      "image/png": "[encoded data removed]",
      "text/plain": [
       "<Figure size 640x480 with 1 Axes>"
      ]
     },
     "metadata": {},
     "output_type": "display_data"
    }
   ],
   "source": [
    "\n",
    "plt.scatter(df['cgpa'], df['package'])\n",
    "plt.plot(X_test, lm.predict(X_test), color=\"orange\")# this is the line which has minimum errors"
   ]
  },
  {
   "cell_type": "code",
   "execution_count": null,
   "id": "11f8b8ae-2253-4a41-a818-2d4de1f375b1",
   "metadata": {},
   "outputs": [],
   "source": []
  }
 ],
 "metadata": {
  "kernelspec": {
   "display_name": "Python 3 (ipykernel)",
   "language": "python",
   "name": "python3"
  },
  "language_info": {
   "codemirror_mode": {
    "name": "ipython",
    "version": 3
   },
   "file_extension": ".py",
   "mimetype": "text/x-python",
   "name": "python",
   "nbconvert_exporter": "python",
   "pygments_lexer": "ipython3",
   "version": "3.11.8"
  }
 },
 "nbformat": 4,
 "nbformat_minor": 5
}
