{
 "cells": [
  {
   "cell_type": "code",
   "execution_count": 2,
   "id": "dec2b1c4-0584-474a-8580-b8be0aac81de",
   "metadata": {},
   "outputs": [],
   "source": [
    "import numpy as np\n",
    "%matplotlib widget\n",
    "import matplotlib.pyplot as plt\n"
   ]
  },
  {
   "cell_type": "code",
   "execution_count": 4,
   "id": "8efcc67e-0e04-4263-8de6-8df2e32c43fa",
   "metadata": {},
   "outputs": [],
   "source": [
    "from sklearn.datasets import load_diabetes\n",
    "from sklearn.metrics import r2_score # for checking how well model behaves\n",
    "from sklearn.datasets import load_diabetes #diabetes dataset\n",
    "X,y = load_diabetes(return_X_y=True)   #loading dataset\n",
    "from sklearn.model_selection import train_test_split\n",
    "X_train,X_test,y_train,y_test = train_test_split(X,y,test_size=0.2,random_state=4) #splitting training and test dataset"
   ]
  },
  {
   "cell_type": "code",
   "execution_count": 5,
   "id": "af74778b-8aaa-4e97-906a-aa27cae65406",
   "metadata": {},
   "outputs": [
    {
     "name": "stdout",
     "output_type": "stream",
     "text": [
      "R2 score 0.4073122716240214\n",
      "[  52.69534174 -154.4527532   372.04173234  268.82291033   -3.98025338\n",
      "  -56.29343877 -171.87848006  140.8434398   335.77024702  102.8621284 ]\n",
      "[139.01520821]\n"
     ]
    }
   ],
   "source": [
    "from sklearn.linear_model import SGDRegressor #importing gradient descent \n",
    "reg = SGDRegressor(penalty='l2',max_iter=500,eta0=0.1,learning_rate='constant',alpha=0.001) #epoch 500 \n",
    "\n",
    "reg.fit(X_train,y_train) #train it\n",
    "\n",
    "y_pred = reg.predict(X_test)\n",
    "print(\"R2 score\",r2_score(y_test,y_pred))\n",
    "print(reg.coef_)\n",
    "print(reg.intercept_)\n"
   ]
  }
 ],
 "metadata": {
  "kernelspec": {
   "display_name": "Python 3 (ipykernel)",
   "language": "python",
   "name": "python3"
  },
  "language_info": {
   "codemirror_mode": {
    "name": "ipython",
    "version": 3
   },
   "file_extension": ".py",
   "mimetype": "text/x-python",
   "name": "python",
   "nbconvert_exporter": "python",
   "pygments_lexer": "ipython3",
   "version": "3.11.8"
  }
 },
 "nbformat": 4,
 "nbformat_minor": 5
}
